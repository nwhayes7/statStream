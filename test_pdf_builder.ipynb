{
 "cells": [
  {
   "cell_type": "code",
   "execution_count": 4,
   "metadata": {},
   "outputs": [],
   "source": [
    "from sys import path_importer_cache\n",
    "import pandas as pd\n",
    "from pathlib import Path\n",
    "from fpdf import FPDF\n",
    "import openpyxl"
   ]
  },
  {
   "cell_type": "code",
   "execution_count": 5,
   "metadata": {},
   "outputs": [],
   "source": [
    "def get_data_from_excel(sheet, excelFileName):\n",
    "        path_excel = excelFileName # demo file \n",
    "        df = pd.read_excel(\n",
    "            io = path_excel,\n",
    "            engine = 'openpyxl',\n",
    "            sheet_name = sheet)\n",
    "        df = df.astype(str)\n",
    "        df.set_index('Company', inplace=True)\n",
    "        return df\n",
    "\n",
    "dfshow = get_data_from_excel('NewShow', 'pdf_webapp1.xlsx')"
   ]
  },
  {
   "cell_type": "code",
   "execution_count": 6,
   "metadata": {},
   "outputs": [
    {
     "data": {
      "text/plain": [
       "''"
      ]
     },
     "execution_count": 6,
     "metadata": {},
     "output_type": "execute_result"
    }
   ],
   "source": [
    "df = dfshow.copy()\n",
    "\n",
    "# PDF creation\n",
    "pdf = FPDF() # Initializing object\n",
    "pdf.add_page() # Adding new page\n",
    "\n",
    "#default A4 page is 210 x 297 (Width x Height)\n",
    "pdf.image('images/Background.png', x=70, y=5, w=70) #x is distance from left, y is distance from top, w is width of image\n",
    "\n",
    "# Title of Document\n",
    "pdf.set_fill_color(0,0,0)\n",
    "pdf.set_text_color(255,255,255)\n",
    "pdf.set_font(\"Arial\", size=30, style='B')\n",
    "pdf.set_xy(10,32)\n",
    "pdf.cell(0, .5, ln=1, align=\"C\" , fill = True)\n",
    "\n",
    "# Text box of header\n",
    "pdf.set_fill_color(255,255,255)\n",
    "pdf.set_text_color(0,0,0)\n",
    "pdf.set_font(\"Courier\", size=13, style='B')\n",
    "pdf.set_xy(12,34)\n",
    "pdf.cell(190, 20, txt='Company: ', ln=1,  fill=True)\n",
    "\n",
    "# # Text box of brief history\n",
    "# pdf.set_text_color(0,0,0)\n",
    "# pdf.set_font(\"Arial\", size=9, style=\"B\")\n",
    "# pdf.set_xy(12,76)\n",
    "# pdf.multi_cell(120, 5, txt= 'history', align=\"J\")\n",
    "\n",
    "# # Text box of header\n",
    "# pdf.set_fill_color(0,0,150)\n",
    "# pdf.set_text_color(255,255,255)\n",
    "# pdf.set_font(\"Arial\", size=20, style='B')\n",
    "# pdf.set_xy(12,153)\n",
    "# pdf.cell(65, 10, txt='TROPHY CABINET', ln=1, align=\"L\",fill=True)\n",
    "\n",
    "# # Text box of trophies won \n",
    "# pdf.set_text_color(0,0,0)\n",
    "# pdf.set_font(\"Arial\", size=9, style=\"B\")\n",
    "# pdf.set_xy(12,165)\n",
    "# pdf.multi_cell(180, 5, txt= 'cabinet', align=\"J\")\n",
    "\n",
    "# # Club's Crest Image\n",
    "# pdf.image('Chasetek.jpg', x=124, y=58, w=80)\n",
    "\n",
    "# # Club's Latin Motto \n",
    "# pdf.set_text_color(220,220,220)\n",
    "# pdf.set_font(\"Arial\", size=14, style='B')\n",
    "# pdf.set_xy(130,130)\n",
    "# pdf.cell(130, 10, txt= \"motto\", ln=1, align=\"L\")\n",
    "\n",
    "# # Inserting Text\n",
    "# pdf.set_text_color(0,0,0)\n",
    "# pdf.set_font(\"Arial\", size= 10.9)\n",
    "# pdf.set_xy(145,135)\n",
    "# pdf.cell(130, 10, txt= \"Coach:\", ln=1, align=\"L\")\n",
    "\n",
    "# # Adding Manager's Name\n",
    "\n",
    "# pdf.set_text_color(0,0,150)\n",
    "# pdf.set_font(\"Arial\", size=10.9, style='B')\n",
    "# pdf.set_xy(158,135)\n",
    "# pdf.cell(130, 10, txt= \"gaffer\", ln=1, align=\"L\")\n",
    "\n",
    "\n",
    "# # Inserting stadium Picture\n",
    "# pdf.image('Chasetek.jpg', x=10, y=184,w=190)\n",
    "\n",
    "# # Stadium Name Text Box\n",
    "# pdf.set_fill_color(255,0,0)\n",
    "# pdf.set_text_color(255,255,250)\n",
    "# pdf.set_font(\"Arial\", size= 15, style='B')\n",
    "# pdf.set_xy(150,260)\n",
    "# pdf.cell(47,8, txt= \"ground\", ln=1, align=\"L\" ,fill=True) \n",
    "\n",
    "# Exporting PDF\n",
    "pdf.output(\"output_pdfs/test.pdf\")"
   ]
  }
 ],
 "metadata": {
  "kernelspec": {
   "display_name": "Python 3.8.2 64-bit",
   "language": "python",
   "name": "python3"
  },
  "language_info": {
   "codemirror_mode": {
    "name": "ipython",
    "version": 3
   },
   "file_extension": ".py",
   "mimetype": "text/x-python",
   "name": "python",
   "nbconvert_exporter": "python",
   "pygments_lexer": "ipython3",
   "version": "3.8.2"
  },
  "orig_nbformat": 4,
  "vscode": {
   "interpreter": {
    "hash": "31f2aee4e71d21fbe5cf8b01ff0e069b9275f58929596ceb00d14d90e3e16cd6"
   }
  }
 },
 "nbformat": 4,
 "nbformat_minor": 2
}
