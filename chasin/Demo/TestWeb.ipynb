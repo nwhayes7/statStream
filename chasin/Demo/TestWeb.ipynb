{
 "cells": [
  {
   "cell_type": "code",
   "execution_count": 2,
   "metadata": {},
   "outputs": [
    {
     "data": {
      "application/javascript": "\n        if (window._pyforest_update_imports_cell) { window._pyforest_update_imports_cell('import pandas as pd'); }\n    ",
      "text/plain": [
       "<IPython.core.display.Javascript object>"
      ]
     },
     "metadata": {},
     "output_type": "display_data"
    }
   ],
   "source": [
    "import pyforest\n",
    "from pathlib import Path\n",
    "from docxtpl import DocxTemplate\n",
    "import docx\n",
    "import pandas as pd\n",
    "import streamlit as st\n",
    "import streamlit_authenticator as stauth\n",
    "from pathlib import Path\n",
    "import base64\n",
    "import os\n",
    "import json\n",
    "import pickle\n",
    "import uuid\n",
    "import re\n",
    "\n",
    "def get_data_from_excel(sheet):\n",
    "    df = pd.read_excel(\n",
    "        io = 'webapp_demo.xlsx',\n",
    "        engine = 'openpyxl',\n",
    "        sheet_name = sheet)\n",
    "    df = df.astype(str)\n",
    "    df.set_index('Company', inplace=True)\n",
    "    return df\n",
    "\n",
    "df = get_data_from_excel('TotalShow')"
   ]
  },
  {
   "cell_type": "code",
   "execution_count": 7,
   "metadata": {},
   "outputs": [
    {
     "data": {
      "text/plain": [
       "'VA'"
      ]
     },
     "execution_count": 7,
     "metadata": {},
     "output_type": "execute_result"
    }
   ],
   "source": [
    "df1 = df.loc[['City Hospital']]\n",
    "\n",
    "state = df1['State'].iloc[0]\n",
    "\n",
    "state"
   ]
  },
  {
   "cell_type": "code",
   "execution_count": 3,
   "metadata": {},
   "outputs": [],
   "source": [
    "keepcols = [\n",
    "    'Job Title',\n",
    "    'State',\n",
    "    'Department Spend',\n",
    "    'Industry Sector',\n",
    "    'Employee Count',\n",
    "    'Annual Sales',\n",
    "    'Locations ',\n",
    "    'IT Department Size',\n",
    "    'IT Security Team Size',\n",
    "    'Contact Center Seats',\n",
    "    'Operating System',\n",
    "    'Current ERP']\n",
    "\n",
    "# transfers the variables in the df to word doc\n",
    "def to_docs(company,df1):\n",
    "    df = df1[keepcols]\n",
    "    to_docx = df.loc[company]\n",
    "    compani = company\n",
    "    state = to_docx['State'].iloc[0]\n",
    "    job_title = to_docx['Job Title'].iloc[0]\n",
    "    annual_spend = to_docx['Department Spend'].iloc[0]\n",
    "    industry = to_docx['Industry Sector'].iloc[0]\n",
    "    employees = to_docx['Employee Count'].iloc[0]\n",
    "    revenue = to_docx['Annual Sales'].iloc[0]\n",
    "    locations = to_docx['Locations '].iloc[0]\n",
    "    it_count = to_docx['IT Department Size'].iloc[0]\n",
    "    security_count = to_docx['IT Security Team Size'].iloc[0]\n",
    "    contact_center = to_docx['Contact Center Seats'].iloc[0]\n",
    "    op_s = to_docx['Operating System'].iloc[0]\n",
    "    erp_v = to_docx['Current ERP'].iloc[0]\n",
    "\n",
    "    context = {'company': compani,\n",
    "        'state': state, \n",
    "        'annual_spend': annual_spend, \n",
    "        'job_title': job_title, \n",
    "        'industry': industry,\n",
    "        'employees': employees, \n",
    "        'revenue': revenue, \n",
    "        'locations': locations, \n",
    "        'it_count': it_count, \n",
    "        'security_count': security_count,\n",
    "        'contact_center': contact_center, \n",
    "        'op_s': op_s, \n",
    "        'erp_v': erp_v}\n",
    "        \n",
    "\n",
    "    # import the word template\n",
    "    path = '/Users/brych/Documents/Chasetek/Mar22_Show/Chasetek/Mar22_Show/Template.docx'\n",
    "    doc = DocxTemplate(path)\n",
    "\n",
    "    # link the variables\n",
    "    doc.render(context)\n",
    "    doc.save(f'{company}_report.docx')\n",
    "    \n",
    "    return doc\n"
   ]
  }
 ],
 "metadata": {
  "interpreter": {
   "hash": "211f82d1d98c61b213f5231535a17871fe0aa6d7b965b6ee1d683101a3457b25"
  },
  "kernelspec": {
   "display_name": "Python 3.8.3 64-bit ('base': conda)",
   "name": "python3"
  },
  "language_info": {
   "codemirror_mode": {
    "name": "ipython",
    "version": 3
   },
   "file_extension": ".py",
   "mimetype": "text/x-python",
   "name": "python",
   "nbconvert_exporter": "python",
   "pygments_lexer": "ipython3",
   "version": "3.8.3"
  }
 },
 "nbformat": 4,
 "nbformat_minor": 4
}
